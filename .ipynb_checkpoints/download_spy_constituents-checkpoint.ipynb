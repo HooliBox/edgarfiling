{
 "cells": [
  {
   "cell_type": "markdown",
   "metadata": {},
   "source": [
    "# Data source  \n",
    "\n",
    "I found this [BarChart.com](https://www.barchart.com/etfs-funds/quotes/SPY/constituents?page=0) is providing spy constituents data. However, this website uses javascripts and getting html information is not straight forward. After some research, I decide to use a chrome webdrive to solve the issue.  \n",
    "\n",
    "chrome WebDrive browser binary that incorporates python calls. Basically, this mimic a human browsing internet instead of a straight request call  \n",
    "\n",
    "the drive could be downloaded at [google site](http://chromedriver.chromium.org/downloads)"
   ]
  },
  {
   "cell_type": "code",
   "execution_count": 214,
   "metadata": {},
   "outputs": [],
   "source": [
    "import requests\n",
    "import pandas as pd\n",
    "from bs4 import BeautifulSoup\n",
    "from selenium import webdriver\n",
    "import timestring\n",
    "import json\n",
    "import time"
   ]
  },
  {
   "cell_type": "code",
   "execution_count": 121,
   "metadata": {},
   "outputs": [],
   "source": [
    "driver = webdriver.Chrome(executable_path='/home/wzh/local/chrome_driver/chromedriver')"
   ]
  },
  {
   "cell_type": "code",
   "execution_count": 122,
   "metadata": {},
   "outputs": [],
   "source": [
    "url = 'https://www.barchart.com/etfs-funds/quotes/SPY/constituents?page={0}'"
   ]
  },
  {
   "cell_type": "code",
   "execution_count": 123,
   "metadata": {
    "scrolled": true
   },
   "outputs": [
    {
     "name": "stderr",
     "output_type": "stream",
     "text": [
      "/home/wzh/miniconda3/envs/edgar/lib/python3.6/site-packages/bs4/__init__.py:181: UserWarning: No parser was explicitly specified, so I'm using the best available HTML parser for this system (\"lxml\"). This usually isn't a problem, but if you run this code on another system, or in a different virtual environment, it may use a different parser and behave differently.\n",
      "\n",
      "The code that caused this warning is on line 193 of the file /home/wzh/miniconda3/envs/edgar/lib/python3.6/runpy.py. To get rid of this warning, change code that looks like this:\n",
      "\n",
      " BeautifulSoup(YOUR_MARKUP})\n",
      "\n",
      "to this:\n",
      "\n",
      " BeautifulSoup(YOUR_MARKUP, \"lxml\")\n",
      "\n",
      "  markup_type=markup_type))\n"
     ]
    }
   ],
   "source": [
    "data = []\n",
    "for i in range(7):\n",
    "    if i == 0:\n",
    "        date = ''.join(soup.find('span', {'class':'current-date'}).text.split(',')[-2:]).strip()\n",
    "    \n",
    "    driver.get(url.format(i))\n",
    "    html = driver.execute_script('return document.documentElement.outerHTML')\n",
    "    soup = BeautifulSoup(html)\n",
    "    \n",
    "    tickers = [tag.text.strip() for tag in soup.findAll('td', {'class': 'symbol text-left'})]\n",
    "    weights = [tag.text.strip() for tag in soup.findAll('td', {'class': 'percent'})]\n",
    "    shares = [tag.text.strip() for tag in soup.findAll('td', {'class': 'sharesHeld'})]\n",
    "    \n",
    "    if tickers:\n",
    "        data.append(pd.DataFrame({\n",
    "            'Ticker': tickers,\n",
    "            'Weight': weights,\n",
    "            'Share': shares\n",
    "        }))\n",
    "\n",
    "\n",
    "driver.quit()"
   ]
  },
  {
   "cell_type": "markdown",
   "metadata": {},
   "source": [
    "# Do some clean up with data"
   ]
  },
  {
   "cell_type": "code",
   "execution_count": 180,
   "metadata": {},
   "outputs": [],
   "source": [
    "df = pd.concat(data)"
   ]
  },
  {
   "cell_type": "code",
   "execution_count": 181,
   "metadata": {},
   "outputs": [
    {
     "name": "stdout",
     "output_type": "stream",
     "text": [
      "2018-05-25 00:00:00\n"
     ]
    }
   ],
   "source": [
    "df = df.loc[~df.Ticker.isin(['Symbol', 'SPY', ''])]\n",
    "df['Weight'] = df.Weight.str.strip('%').astype(float) / 100\n",
    "df['Share'] = df.Share.str.replace( '[\\$,)]','', regex=True ).astype(float)\n",
    "asofdate = timestring.Date(date).date\n",
    "df['AsOfDate'] = asofdate\n",
    "print(asofdate)"
   ]
  },
  {
   "cell_type": "code",
   "execution_count": 182,
   "metadata": {},
   "outputs": [],
   "source": [
    "# the website gives duplicate entries when switching pages, need to groupby and dedup\n",
    "df = df.groupby(['Ticker']).first().reset_index()"
   ]
  },
  {
   "cell_type": "code",
   "execution_count": 183,
   "metadata": {},
   "outputs": [],
   "source": [
    "# change incorrect ticker \n",
    "df.loc[df.Ticker == 'WYND.I', 'Ticker'] = 'WYN'\n",
    "df.loc[df.Ticker == 'CCL.U', 'Ticker'] = 'CCL'"
   ]
  },
  {
   "cell_type": "code",
   "execution_count": 184,
   "metadata": {},
   "outputs": [],
   "source": [
    "df.to_csv(\n",
    "    'constituents.{0}.csv'.format(asofdate.strftime('%Y%m%d')), \n",
    "    index=False)"
   ]
  },
  {
   "cell_type": "code",
   "execution_count": null,
   "metadata": {},
   "outputs": [],
   "source": []
  },
  {
   "cell_type": "markdown",
   "metadata": {},
   "source": [
    "# Go to wiki and find their company information"
   ]
  },
  {
   "cell_type": "code",
   "execution_count": 194,
   "metadata": {},
   "outputs": [],
   "source": [
    "dfs = pd.read_html('https://en.wikipedia.org/wiki/List_of_S%26P_500_companies#cite_note-158')"
   ]
  },
  {
   "cell_type": "code",
   "execution_count": 195,
   "metadata": {},
   "outputs": [],
   "source": [
    "company_info = dfs[0]\n",
    "company_info.columns = company_info.iloc[0]\n",
    "company_info = company_info.iloc[1:].rename(columns={'Ticker symbol':'Ticker'})\n",
    "merged = company_info.merge(df, on='Ticker', how='outer', indicator=True)"
   ]
  },
  {
   "cell_type": "code",
   "execution_count": 196,
   "metadata": {},
   "outputs": [
    {
     "data": {
      "text/html": [
       "<div>\n",
       "<style scoped>\n",
       "    .dataframe tbody tr th:only-of-type {\n",
       "        vertical-align: middle;\n",
       "    }\n",
       "\n",
       "    .dataframe tbody tr th {\n",
       "        vertical-align: top;\n",
       "    }\n",
       "\n",
       "    .dataframe thead th {\n",
       "        text-align: right;\n",
       "    }\n",
       "</style>\n",
       "<table border=\"1\" class=\"dataframe\">\n",
       "  <thead>\n",
       "    <tr style=\"text-align: right;\">\n",
       "      <th></th>\n",
       "      <th>Ticker</th>\n",
       "      <th>Security</th>\n",
       "      <th>SEC filings</th>\n",
       "      <th>GICS Sector</th>\n",
       "      <th>GICS Sub Industry</th>\n",
       "      <th>Location</th>\n",
       "      <th>Date first added[3][4]</th>\n",
       "      <th>CIK</th>\n",
       "      <th>Founded</th>\n",
       "      <th>Weight</th>\n",
       "      <th>Share</th>\n",
       "      <th>AsOfDate</th>\n",
       "      <th>_merge</th>\n",
       "    </tr>\n",
       "  </thead>\n",
       "  <tbody>\n",
       "  </tbody>\n",
       "</table>\n",
       "</div>"
      ],
      "text/plain": [
       "Empty DataFrame\n",
       "Columns: [Ticker, Security, SEC filings, GICS Sector, GICS Sub Industry, Location, Date first added[3][4], CIK, Founded, Weight, Share, AsOfDate, _merge]\n",
       "Index: []"
      ]
     },
     "execution_count": 196,
     "metadata": {},
     "output_type": "execute_result"
    }
   ],
   "source": [
    "merged.loc[merged._merge == 'left_only']"
   ]
  },
  {
   "cell_type": "code",
   "execution_count": 197,
   "metadata": {},
   "outputs": [
    {
     "data": {
      "text/html": [
       "<div>\n",
       "<style scoped>\n",
       "    .dataframe tbody tr th:only-of-type {\n",
       "        vertical-align: middle;\n",
       "    }\n",
       "\n",
       "    .dataframe tbody tr th {\n",
       "        vertical-align: top;\n",
       "    }\n",
       "\n",
       "    .dataframe thead th {\n",
       "        text-align: right;\n",
       "    }\n",
       "</style>\n",
       "<table border=\"1\" class=\"dataframe\">\n",
       "  <thead>\n",
       "    <tr style=\"text-align: right;\">\n",
       "      <th></th>\n",
       "      <th>Ticker</th>\n",
       "      <th>Security</th>\n",
       "      <th>SEC filings</th>\n",
       "      <th>GICS Sector</th>\n",
       "      <th>GICS Sub Industry</th>\n",
       "      <th>Location</th>\n",
       "      <th>Date first added[3][4]</th>\n",
       "      <th>CIK</th>\n",
       "      <th>Founded</th>\n",
       "      <th>Weight</th>\n",
       "      <th>Share</th>\n",
       "      <th>AsOfDate</th>\n",
       "      <th>_merge</th>\n",
       "    </tr>\n",
       "  </thead>\n",
       "  <tbody>\n",
       "  </tbody>\n",
       "</table>\n",
       "</div>"
      ],
      "text/plain": [
       "Empty DataFrame\n",
       "Columns: [Ticker, Security, SEC filings, GICS Sector, GICS Sub Industry, Location, Date first added[3][4], CIK, Founded, Weight, Share, AsOfDate, _merge]\n",
       "Index: []"
      ]
     },
     "execution_count": 197,
     "metadata": {},
     "output_type": "execute_result"
    }
   ],
   "source": [
    "merged.loc[merged._merge == 'right_only']"
   ]
  },
  {
   "cell_type": "code",
   "execution_count": 198,
   "metadata": {},
   "outputs": [
    {
     "data": {
      "text/html": [
       "<div>\n",
       "<style scoped>\n",
       "    .dataframe tbody tr th:only-of-type {\n",
       "        vertical-align: middle;\n",
       "    }\n",
       "\n",
       "    .dataframe tbody tr th {\n",
       "        vertical-align: top;\n",
       "    }\n",
       "\n",
       "    .dataframe thead th {\n",
       "        text-align: right;\n",
       "    }\n",
       "</style>\n",
       "<table border=\"1\" class=\"dataframe\">\n",
       "  <thead>\n",
       "    <tr style=\"text-align: right;\">\n",
       "      <th></th>\n",
       "      <th>Ticker</th>\n",
       "      <th>Security</th>\n",
       "      <th>SEC filings</th>\n",
       "      <th>GICS Sector</th>\n",
       "      <th>GICS Sub Industry</th>\n",
       "      <th>Location</th>\n",
       "      <th>Date first added[3][4]</th>\n",
       "      <th>CIK</th>\n",
       "      <th>Founded</th>\n",
       "      <th>Weight</th>\n",
       "      <th>Share</th>\n",
       "      <th>AsOfDate</th>\n",
       "      <th>_merge</th>\n",
       "    </tr>\n",
       "  </thead>\n",
       "  <tbody>\n",
       "    <tr>\n",
       "      <th>0</th>\n",
       "      <td>MMM</td>\n",
       "      <td>3M Company</td>\n",
       "      <td>reports</td>\n",
       "      <td>Industrials</td>\n",
       "      <td>Industrial Conglomerates</td>\n",
       "      <td>St. Paul, Minnesota</td>\n",
       "      <td>NaN</td>\n",
       "      <td>0000066740</td>\n",
       "      <td>1902</td>\n",
       "      <td>0.0051</td>\n",
       "      <td>6754508.0</td>\n",
       "      <td>2018-05-25</td>\n",
       "      <td>both</td>\n",
       "    </tr>\n",
       "    <tr>\n",
       "      <th>1</th>\n",
       "      <td>ABT</td>\n",
       "      <td>Abbott Laboratories</td>\n",
       "      <td>reports</td>\n",
       "      <td>Health Care</td>\n",
       "      <td>Health Care Equipment</td>\n",
       "      <td>North Chicago, Illinois</td>\n",
       "      <td>1964-03-31</td>\n",
       "      <td>0000001800</td>\n",
       "      <td>1888</td>\n",
       "      <td>0.0046</td>\n",
       "      <td>19738462.0</td>\n",
       "      <td>2018-05-25</td>\n",
       "      <td>both</td>\n",
       "    </tr>\n",
       "    <tr>\n",
       "      <th>2</th>\n",
       "      <td>ABBV</td>\n",
       "      <td>AbbVie Inc.</td>\n",
       "      <td>reports</td>\n",
       "      <td>Health Care</td>\n",
       "      <td>Pharmaceuticals</td>\n",
       "      <td>North Chicago, Illinois</td>\n",
       "      <td>2012-12-31</td>\n",
       "      <td>0001551152</td>\n",
       "      <td>2013 (1888)</td>\n",
       "      <td>0.0072</td>\n",
       "      <td>18123128.0</td>\n",
       "      <td>2018-05-25</td>\n",
       "      <td>both</td>\n",
       "    </tr>\n",
       "    <tr>\n",
       "      <th>3</th>\n",
       "      <td>ACN</td>\n",
       "      <td>Accenture plc</td>\n",
       "      <td>reports</td>\n",
       "      <td>Information Technology</td>\n",
       "      <td>IT Consulting &amp; Other Services</td>\n",
       "      <td>Dublin, Ireland</td>\n",
       "      <td>2011-07-06</td>\n",
       "      <td>0001467373</td>\n",
       "      <td>1989</td>\n",
       "      <td>0.0041</td>\n",
       "      <td>7009123.0</td>\n",
       "      <td>2018-05-25</td>\n",
       "      <td>both</td>\n",
       "    </tr>\n",
       "    <tr>\n",
       "      <th>4</th>\n",
       "      <td>ATVI</td>\n",
       "      <td>Activision Blizzard</td>\n",
       "      <td>reports</td>\n",
       "      <td>Information Technology</td>\n",
       "      <td>Home Entertainment Software</td>\n",
       "      <td>Santa Monica, California</td>\n",
       "      <td>2015-08-31</td>\n",
       "      <td>0000718877</td>\n",
       "      <td>2008</td>\n",
       "      <td>0.0023</td>\n",
       "      <td>8624631.0</td>\n",
       "      <td>2018-05-25</td>\n",
       "      <td>both</td>\n",
       "    </tr>\n",
       "  </tbody>\n",
       "</table>\n",
       "</div>"
      ],
      "text/plain": [
       "  Ticker             Security SEC filings             GICS Sector  \\\n",
       "0    MMM           3M Company     reports             Industrials   \n",
       "1    ABT  Abbott Laboratories     reports             Health Care   \n",
       "2   ABBV          AbbVie Inc.     reports             Health Care   \n",
       "3    ACN        Accenture plc     reports  Information Technology   \n",
       "4   ATVI  Activision Blizzard     reports  Information Technology   \n",
       "\n",
       "                GICS Sub Industry                  Location  \\\n",
       "0        Industrial Conglomerates       St. Paul, Minnesota   \n",
       "1           Health Care Equipment   North Chicago, Illinois   \n",
       "2                 Pharmaceuticals   North Chicago, Illinois   \n",
       "3  IT Consulting & Other Services           Dublin, Ireland   \n",
       "4     Home Entertainment Software  Santa Monica, California   \n",
       "\n",
       "  Date first added[3][4]         CIK      Founded  Weight       Share  \\\n",
       "0                    NaN  0000066740         1902  0.0051   6754508.0   \n",
       "1             1964-03-31  0000001800         1888  0.0046  19738462.0   \n",
       "2             2012-12-31  0001551152  2013 (1888)  0.0072  18123128.0   \n",
       "3             2011-07-06  0001467373         1989  0.0041   7009123.0   \n",
       "4             2015-08-31  0000718877         2008  0.0023   8624631.0   \n",
       "\n",
       "    AsOfDate _merge  \n",
       "0 2018-05-25   both  \n",
       "1 2018-05-25   both  \n",
       "2 2018-05-25   both  \n",
       "3 2018-05-25   both  \n",
       "4 2018-05-25   both  "
      ]
     },
     "execution_count": 198,
     "metadata": {},
     "output_type": "execute_result"
    }
   ],
   "source": [
    "merged.head()"
   ]
  },
  {
   "cell_type": "code",
   "execution_count": 261,
   "metadata": {},
   "outputs": [],
   "source": [
    "merged.loc[merged.Ticker == 'LUK', 'Ticker'] = 'LUK-W'\n",
    "merged['Ticker'] = merged.Ticker.str.replace('.', '/')"
   ]
  },
  {
   "cell_type": "code",
   "execution_count": 262,
   "metadata": {},
   "outputs": [],
   "source": [
    "merged.to_csv('company_info.{0}.csv'.format(asofdate.strftime('%Y%m%d')), index=False)"
   ]
  },
  {
   "cell_type": "code",
   "execution_count": null,
   "metadata": {},
   "outputs": [],
   "source": []
  },
  {
   "cell_type": "markdown",
   "metadata": {},
   "source": [
    "# Relate to Bloomberg to get more security information"
   ]
  },
  {
   "cell_type": "code",
   "execution_count": 263,
   "metadata": {},
   "outputs": [],
   "source": [
    "tickers = merged.Ticker.values"
   ]
  },
  {
   "cell_type": "code",
   "execution_count": 264,
   "metadata": {},
   "outputs": [],
   "source": [
    "headers = {'content-type': 'text/json'}\n",
    "figi_url = 'https://api.openfigi.com/v1/mapping'\n",
    "n = 10\n",
    "res = []\n",
    "for i in range(0, len(tickers), n):\n",
    "    data = []\n",
    "    group = tickers[i:i+n]\n",
    "    for ticker in group:\n",
    "        data.append({\"idType\":\"TICKER\",\n",
    "                     \"idValue\":ticker.replace('.', '/'), \n",
    "                     \"marketSecDes\":\"Equity\", \n",
    "                     \"exchCode\":\"US\"})\n",
    "        \n",
    "    r = requests.post(figi_url, data=json.dumps(data), headers=headers)\n",
    "    res = res + json.loads(r.content)\n",
    "    time.sleep(20)\n",
    "    "
   ]
  },
  {
   "cell_type": "code",
   "execution_count": 265,
   "metadata": {},
   "outputs": [],
   "source": [
    "f = []\n",
    "for d in res:\n",
    "    try:\n",
    "        f = f + d['data']\n",
    "    except Exception as e:\n",
    "        print(e)"
   ]
  },
  {
   "cell_type": "code",
   "execution_count": 266,
   "metadata": {},
   "outputs": [],
   "source": [
    "bloomberg_figi = pd.DataFrame(f)"
   ]
  },
  {
   "cell_type": "code",
   "execution_count": 274,
   "metadata": {},
   "outputs": [],
   "source": [
    "bloomberg_figi = bloomberg_figi.rename(columns={'compositeFIGI': 'composite_figi',\n",
    "                               'exchCode': 'exch_code',\n",
    "                               'figi': 'figi',\n",
    "                               'marketSector': 'market_sector',\n",
    "                               'name': 'name',\n",
    "                               'securityDescription': 'security_description',\n",
    "                               'securityType': 'security_type',\n",
    "                               'securityType2': 'security_type2',\n",
    "                               'shareClassFIGI': 'share_class_figi',\n",
    "                               'ticker': 'ticker',\n",
    "                               'uniqueID': 'unique_id',\n",
    "                               'uniqueIDFutOpt': 'unique_id_futopt'})"
   ]
  },
  {
   "cell_type": "code",
   "execution_count": 277,
   "metadata": {},
   "outputs": [
    {
     "data": {
      "text/html": [
       "<div>\n",
       "<style scoped>\n",
       "    .dataframe tbody tr th:only-of-type {\n",
       "        vertical-align: middle;\n",
       "    }\n",
       "\n",
       "    .dataframe tbody tr th {\n",
       "        vertical-align: top;\n",
       "    }\n",
       "\n",
       "    .dataframe thead th {\n",
       "        text-align: right;\n",
       "    }\n",
       "</style>\n",
       "<table border=\"1\" class=\"dataframe\">\n",
       "  <thead>\n",
       "    <tr style=\"text-align: right;\">\n",
       "      <th></th>\n",
       "      <th>composite_figi</th>\n",
       "      <th>exch_code</th>\n",
       "      <th>figi</th>\n",
       "      <th>market_sector</th>\n",
       "      <th>name</th>\n",
       "      <th>security_description</th>\n",
       "      <th>security_type</th>\n",
       "      <th>security_type2</th>\n",
       "      <th>share_class_figi</th>\n",
       "      <th>ticker</th>\n",
       "      <th>unique_id</th>\n",
       "      <th>unique_id_futopt</th>\n",
       "    </tr>\n",
       "  </thead>\n",
       "  <tbody>\n",
       "    <tr>\n",
       "      <th>0</th>\n",
       "      <td>BBG000BP52R2</td>\n",
       "      <td>US</td>\n",
       "      <td>BBG000BP52R2</td>\n",
       "      <td>Equity</td>\n",
       "      <td>3M CO</td>\n",
       "      <td>MMM</td>\n",
       "      <td>Common Stock</td>\n",
       "      <td>Common Stock</td>\n",
       "      <td>BBG001S5T7X2</td>\n",
       "      <td>MMM</td>\n",
       "      <td>EQ0010100100001000</td>\n",
       "      <td>None</td>\n",
       "    </tr>\n",
       "    <tr>\n",
       "      <th>1</th>\n",
       "      <td>BBG000B9ZXB4</td>\n",
       "      <td>US</td>\n",
       "      <td>BBG000B9ZXB4</td>\n",
       "      <td>Equity</td>\n",
       "      <td>ABBOTT LABORATORIES</td>\n",
       "      <td>ABT</td>\n",
       "      <td>Common Stock</td>\n",
       "      <td>Common Stock</td>\n",
       "      <td>BBG001S5N9M6</td>\n",
       "      <td>ABT</td>\n",
       "      <td>EQ0010000200001000</td>\n",
       "      <td>None</td>\n",
       "    </tr>\n",
       "    <tr>\n",
       "      <th>2</th>\n",
       "      <td>BBG0025Y4RY4</td>\n",
       "      <td>US</td>\n",
       "      <td>BBG0025Y4RY4</td>\n",
       "      <td>Equity</td>\n",
       "      <td>ABBVIE INC</td>\n",
       "      <td>ABBV</td>\n",
       "      <td>Common Stock</td>\n",
       "      <td>Common Stock</td>\n",
       "      <td>BBG0025Y4RZ3</td>\n",
       "      <td>ABBV</td>\n",
       "      <td>EQ0000000020553113</td>\n",
       "      <td>None</td>\n",
       "    </tr>\n",
       "    <tr>\n",
       "      <th>3</th>\n",
       "      <td>BBG000D9D830</td>\n",
       "      <td>US</td>\n",
       "      <td>BBG000D9D830</td>\n",
       "      <td>Equity</td>\n",
       "      <td>ACCENTURE PLC-CL A</td>\n",
       "      <td>ACN</td>\n",
       "      <td>Common Stock</td>\n",
       "      <td>Common Stock</td>\n",
       "      <td>BBG001SCXK90</td>\n",
       "      <td>ACN</td>\n",
       "      <td>EQ0030078700001000</td>\n",
       "      <td>None</td>\n",
       "    </tr>\n",
       "    <tr>\n",
       "      <th>4</th>\n",
       "      <td>BBG000CVWGS6</td>\n",
       "      <td>US</td>\n",
       "      <td>BBG000CVWGS6</td>\n",
       "      <td>Equity</td>\n",
       "      <td>ACTIVISION BLIZZARD INC</td>\n",
       "      <td>ATVI</td>\n",
       "      <td>Common Stock</td>\n",
       "      <td>Common Stock</td>\n",
       "      <td>BBG001S6C009</td>\n",
       "      <td>ATVI</td>\n",
       "      <td>EQ0010227300001000</td>\n",
       "      <td>None</td>\n",
       "    </tr>\n",
       "  </tbody>\n",
       "</table>\n",
       "</div>"
      ],
      "text/plain": [
       "  composite_figi exch_code          figi market_sector  \\\n",
       "0   BBG000BP52R2        US  BBG000BP52R2        Equity   \n",
       "1   BBG000B9ZXB4        US  BBG000B9ZXB4        Equity   \n",
       "2   BBG0025Y4RY4        US  BBG0025Y4RY4        Equity   \n",
       "3   BBG000D9D830        US  BBG000D9D830        Equity   \n",
       "4   BBG000CVWGS6        US  BBG000CVWGS6        Equity   \n",
       "\n",
       "                      name security_description security_type security_type2  \\\n",
       "0                    3M CO                  MMM  Common Stock   Common Stock   \n",
       "1      ABBOTT LABORATORIES                  ABT  Common Stock   Common Stock   \n",
       "2               ABBVIE INC                 ABBV  Common Stock   Common Stock   \n",
       "3       ACCENTURE PLC-CL A                  ACN  Common Stock   Common Stock   \n",
       "4  ACTIVISION BLIZZARD INC                 ATVI  Common Stock   Common Stock   \n",
       "\n",
       "  share_class_figi ticker           unique_id unique_id_futopt  \n",
       "0     BBG001S5T7X2    MMM  EQ0010100100001000             None  \n",
       "1     BBG001S5N9M6    ABT  EQ0010000200001000             None  \n",
       "2     BBG0025Y4RZ3   ABBV  EQ0000000020553113             None  \n",
       "3     BBG001SCXK90    ACN  EQ0030078700001000             None  \n",
       "4     BBG001S6C009   ATVI  EQ0010227300001000             None  "
      ]
     },
     "execution_count": 277,
     "metadata": {},
     "output_type": "execute_result"
    }
   ],
   "source": [
    "bloomberg_figi.head()"
   ]
  },
  {
   "cell_type": "code",
   "execution_count": 276,
   "metadata": {},
   "outputs": [],
   "source": [
    "bloomberg_figi.to_csv('bloomberg.csv', index=False)"
   ]
  },
  {
   "cell_type": "code",
   "execution_count": null,
   "metadata": {},
   "outputs": [],
   "source": []
  }
 ],
 "metadata": {
  "kernelspec": {
   "display_name": "Python 3",
   "language": "python",
   "name": "python3"
  },
  "language_info": {
   "codemirror_mode": {
    "name": "ipython",
    "version": 3
   },
   "file_extension": ".py",
   "mimetype": "text/x-python",
   "name": "python",
   "nbconvert_exporter": "python",
   "pygments_lexer": "ipython3",
   "version": "3.6.5"
  }
 },
 "nbformat": 4,
 "nbformat_minor": 2
}
