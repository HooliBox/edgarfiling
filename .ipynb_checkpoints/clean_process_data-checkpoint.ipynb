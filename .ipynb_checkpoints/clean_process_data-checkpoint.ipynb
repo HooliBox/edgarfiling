{
 "cells": [
  {
   "cell_type": "code",
   "execution_count": 10,
   "metadata": {},
   "outputs": [],
   "source": [
    "import pandas as pd\n",
    "import re\n",
    "import numpy\n",
    "import requests\n",
    "pd.options.mode.chained_assignment = None  "
   ]
  },
  {
   "cell_type": "markdown",
   "metadata": {},
   "source": [
    "# replace ASCII code \n",
    "get the mapping from html tutorial website"
   ]
  },
  {
   "cell_type": "code",
   "execution_count": 11,
   "metadata": {},
   "outputs": [],
   "source": [
    "header = {\n",
    "  \"User-Agent\": \"Mozilla/5.0 (X11; Linux x86_64) AppleWebKit/537.36 (KHTML, like Gecko) Chrome/50.0.2661.75 Safari/537.36\",\n",
    "  \"X-Requested-With\": \"XMLHttpRequest\"\n",
    "}"
   ]
  },
  {
   "cell_type": "code",
   "execution_count": 12,
   "metadata": {},
   "outputs": [],
   "source": [
    "url = 'https://www.tutorialspoint.com/html/html_ascii_codes.htm'\n",
    "r = requests.get(url, headers=header)\n",
    "dfs = pd.read_html(r.text)\n",
    "df = dfs[0].iloc[1:]\n",
    "df.loc[df[2] == '&#32;', 0] = ''\n",
    "df.loc[df[2] == '&#44;', 0] = ':'\n",
    "code_map = df[[2, 0]].set_index(2).to_dict()[0]\n",
    "\n",
    "\n",
    "url = 'https://www.tutorialspoint.com/html/html_color_names.htm'\n",
    "r = requests.get(url, headers=header)\n",
    "dfs = pd.read_html(r.text)\n",
    "df = dfs[5]\n",
    "df[0] = df[0].fillna(' ')\n",
    "df = df.iloc[1:]\n",
    "code_map.update(df[[3, 0]].set_index(3).to_dict()[0])\n",
    "\n",
    "code_map.update({'\\n': ' ', \n",
    "                 '\\r': ' ', \n",
    "                 '&nbsp;': ' ', \n",
    "                 '&#160;': ' '})"
   ]
  },
  {
   "cell_type": "code",
   "execution_count": 105,
   "metadata": {
    "scrolled": true
   },
   "outputs": [],
   "source": [
    "del code_map['&#92;']"
   ]
  },
  {
   "cell_type": "markdown",
   "metadata": {},
   "source": [
    "# read 10K and extract Item 1A risk factor"
   ]
  },
  {
   "cell_type": "code",
   "execution_count": null,
   "metadata": {},
   "outputs": [],
   "source": [
    "import os\n",
    "import re"
   ]
  },
  {
   "cell_type": "markdown",
   "metadata": {},
   "source": [
    "## define couple patterns of regular expression"
   ]
  },
  {
   "cell_type": "code",
   "execution_count": null,
   "metadata": {},
   "outputs": [],
   "source": [
    "def regex1(text):\n",
    "    reg = 'bold;\\\">\\s*Item 1A.\\s*<.*bold;\\\">\\s*Risk Factors.*bold;\\\">\\s*Item 2.'\n",
    "    match = re.search(reg, text, flags=re.IGNORECASE)\n",
    "    if match == None:\n",
    "        return match\n",
    "    section = text[match.span()[0]:match.span()[1]]\n",
    "    section = re.sub(r'<.*?>', '', section)\n",
    "    n = section.find('Risk Factors') + 12\n",
    "    section = section[n:-7]\n",
    "    return section\n",
    "\n",
    "def regex2(text):\n",
    "    reg = 'ITEM 1A</B>.*RISK FACTOR.*ITEM 1B</B>'\n",
    "    match = re.search(reg, text, flags=re.IGNORECASE)\n",
    "    if match == None:\n",
    "        return match\n",
    "    section = text[match.span()[0]:match.span()[1]]\n",
    "    section = re.sub(r'<.*?>', '', section)\n",
    "    return section\n",
    "\n",
    "def regex3(text):\n",
    "    reg = 'Item 1A — Risk Factors</font>.*Item 1B — Unresolved Staff Comments</font>'\n",
    "    match = re.search(reg, text, flags=re.IGNORECASE)\n",
    "    \n",
    "    if match == None:\n",
    "        return match\n",
    "    section = text[match.span()[0]:match.span()[1]]\n",
    "    section = re.sub(r'<.*?>', '', section)\n",
    "    return section\n",
    "\n",
    "def regex4(text):\n",
    "    reg = 'Item 1A.\\s*Risk Factors.*ITEM 1B.'\n",
    "    match = re.search(reg, text, flags=re.IGNORECASE)\n",
    "    \n",
    "    if match == None:\n",
    "        return match\n",
    "    section = text[match.span()[0]:match.span()[1]]\n",
    "    section = section[:-8]\n",
    "    section = re.sub(r'<.*?>', '', section)\n",
    "    return section\n",
    "\n",
    "def regex5(text):\n",
    "    reg = 'Risk Factors\\..*ITEM 1B.'\n",
    "    match = re.search(reg, text, flags=re.IGNORECASE)\n",
    "    \n",
    "    if match == None:\n",
    "        return match\n",
    "    section = text[match.span()[0]:match.span()[1]]\n",
    "    section = section[:-8]\n",
    "    section = re.sub(r'<.*?>', '', section)\n",
    "    return section\n",
    "\n",
    "def regex6(text):\n",
    "    reg = 'Risk Factors</font>.*>ITEM 1B'\n",
    "    match = re.search(reg, text, flags=re.IGNORECASE)\n",
    "    \n",
    "    if match == None:\n",
    "        return match\n",
    "    section = text[match.span()[0]:match.span()[1]]\n",
    "    section = section[:-9]\n",
    "    section = re.sub(r'<.*?>', '', section)\n",
    "    return section\n",
    "\n",
    "regexs = [regex1, regex2, regex3, regex4, regex5, regex6]"
   ]
  },
  {
   "cell_type": "code",
   "execution_count": 157,
   "metadata": {},
   "outputs": [],
   "source": [
    "def preprossing(text, code_map):\n",
    "    text = text.strip()\n",
    "    for k, v in code_map.items():\n",
    "        text = text.replace(k, v)\n",
    "    \n",
    "    while '  ' in text:\n",
    "        text = text.replace('  ', ' ')\n",
    "        \n",
    "    text = re.sub(r'<SMALL>', '', text, flags=re.IGNORECASE)\n",
    "    text = re.sub(r'</SMALL>', '', text, flags=re.IGNORECASE)\n",
    "    \n",
    "    return text"
   ]
  },
  {
   "cell_type": "code",
   "execution_count": 194,
   "metadata": {},
   "outputs": [],
   "source": [
    "path = './data/tenk/'\n",
    "target_path = './data/riskfactor/'"
   ]
  },
  {
   "cell_type": "code",
   "execution_count": 203,
   "metadata": {},
   "outputs": [],
   "source": [
    "processed = os.listdir(target_path)\n",
    "processed = set(processed)"
   ]
  },
  {
   "cell_type": "code",
   "execution_count": 196,
   "metadata": {},
   "outputs": [
    {
     "name": "stdout",
     "output_type": "stream",
     "text": [
      "./data/tenk/4281-0001193125-16-470162.txt\n",
      "./data/tenk/65984-0000065984-17-000067.txt\n",
      "./data/tenk/1385157-0001047469-17-007037.txt\n",
      "./data/tenk/66740-0001558370-18-000535.txt\n",
      "./data/tenk/896878-0000896878-17-000130.txt\n",
      "./data/tenk/73309-0001193125-17-062124.txt\n",
      "./data/tenk/916076-0001193125-17-056282.txt\n",
      "./data/tenk/35527-0001193125-17-056318.txt\n",
      "./data/tenk/1123360-0001123360-18-000007.txt\n",
      "./data/tenk/45012-0000045012-18-000059.txt\n",
      "./data/tenk/1593538-0001193125-16-478393.txt\n",
      "./data/tenk/73309-0001193125-18-064018.txt\n",
      "./data/tenk/4962-0000004962-18-000032.txt\n",
      "./data/tenk/1403568-0001558370-18-002733.txt\n",
      "./data/tenk/1087423-0001193125-16-556503.txt\n",
      "./data/tenk/103379-0001193125-16-489832.txt\n",
      "./data/tenk/65984-0000065984-16-000436.txt\n",
      "./data/tenk/1037868-0001193125-16-478197.txt\n",
      "./data/tenk/1571949-0001571949-18-000003.txt\n",
      "./data/tenk/1136869-0001193125-16-485039.txt\n",
      "./data/tenk/313927-0001564590-17-002326.txt\n",
      "./data/tenk/1385157-0001047469-16-016719.txt\n",
      "./data/tenk/1164727-0001558370-16-003258.txt\n",
      "./data/tenk/40545-0000040545-16-000145.txt\n",
      "./data/tenk/72741-0000072741-16-000063.txt\n",
      "./data/tenk/1408198-0001193125-16-482334.txt\n",
      "./data/tenk/91142-0001193125-18-048314.txt\n",
      "./data/tenk/831001-0000831001-16-000235.txt\n",
      "./data/tenk/1059556-0001193125-18-058986.txt\n",
      "./data/tenk/1403568-0001193125-17-099261.txt\n",
      "./data/tenk/874766-0000874766-17-000010.txt\n",
      "./data/tenk/1087423-0001193125-17-139562.txt\n",
      "./data/tenk/732712-0001193125-16-473367.txt\n",
      "./data/tenk/827052-0000827052-17-000033.txt\n",
      "./data/tenk/1136869-0001193125-17-065632.txt\n",
      "./data/tenk/1034054-0001034054-18-000003.txt\n",
      "./data/tenk/827052-0000827052-16-000222.txt\n",
      "./data/tenk/1164727-0001558370-18-000894.txt\n",
      "./data/tenk/916076-0001193125-16-473754.txt\n",
      "./data/tenk/1050915-0001193125-17-064821.txt\n",
      "./data/tenk/1013871-0001013871-16-000022.txt\n",
      "./data/tenk/879101-0001437749-16-026173.txt\n",
      "./data/tenk/895421-0001193125-18-060831.txt\n",
      "./data/tenk/886982-0001193125-17-056804.txt\n",
      "./data/tenk/21076-0001628280-17-008700.txt\n",
      "./data/tenk/860730-0001193125-16-482165.txt\n",
      "./data/tenk/1067983-0001193125-18-057033.txt\n",
      "./data/tenk/35527-0001193125-18-062301.txt\n",
      "./data/tenk/4962-0001193125-17-047588.txt\n",
      "./data/tenk/1378946-0001193125-18-067489.txt\n",
      "./data/tenk/916076-0001193125-18-055887.txt\n",
      "./data/tenk/831001-0000831001-18-000040.txt\n",
      "./data/tenk/1571949-0001571949-16-000020.txt\n",
      "./data/tenk/91142-0001193125-17-047795.txt\n",
      "./data/tenk/66740-0001558370-17-000479.txt\n",
      "./data/tenk/1067983-0001193125-16-483023.txt\n",
      "./data/tenk/1037868-0001193125-17-053600.txt\n",
      "./data/tenk/48465-0001104659-16-163147.txt\n",
      "./data/tenk/21076-0001206774-16-006893.txt\n",
      "./data/tenk/1378946-0001193125-16-485012.txt\n",
      "./data/tenk/879101-0001437749-17-003269.txt\n",
      "./data/tenk/721371-0000721371-16-000277.txt\n",
      "./data/tenk/1059556-0001193125-17-054522.txt\n",
      "./data/tenk/1403568-0001193125-16-523101.txt\n",
      "./data/tenk/217346-0001104659-16-099562.txt\n",
      "./data/tenk/313927-0001564590-16-012917.txt\n",
      "./data/tenk/1059556-0001193125-16-476427.txt\n",
      "./data/tenk/1593538-0001193125-17-056358.txt\n",
      "./data/tenk/732717-0000732717-18-000009.txt\n",
      "./data/tenk/91576-0001193125-16-475914.txt\n",
      "./data/tenk/1034054-0001034054-17-000003.txt\n",
      "./data/tenk/1021860-0001193125-17-047937.txt\n",
      "./data/tenk/313927-0001564590-18-002984.txt\n",
      "./data/tenk/732717-0000732717-17-000021.txt\n",
      "./data/tenk/874766-0000874766-18-000011.txt\n",
      "./data/tenk/1050915-0001193125-16-485494.txt\n",
      "./data/tenk/73309-0001193125-16-481119.txt\n",
      "./data/tenk/1021860-0001193125-18-048333.txt\n",
      "./data/tenk/1034054-0001034054-16-000018.txt\n",
      "./data/tenk/879101-0001437749-18-003230.txt\n",
      "./data/tenk/721371-0000721371-17-000083.txt\n",
      "./data/tenk/6769-0001193125-16-481920.txt\n",
      "./data/tenk/40545-0000040545-17-000010.txt\n",
      "./data/tenk/1164727-0001558370-17-000729.txt\n",
      "./data/tenk/1378946-0001193125-17-065121.txt\n",
      "./data/tenk/48465-0001104659-17-074227.txt\n",
      "./data/tenk/1013871-0001013871-17-000007.txt\n",
      "./data/tenk/1571949-0001571949-17-000003.txt\n",
      "./data/tenk/1067983-0001193125-17-056969.txt\n",
      "./data/tenk/827052-0000827052-18-000046.txt\n",
      "./data/tenk/721683-0001193125-16-476239.txt\n",
      "./data/tenk/65984-0000065984-18-000072.txt\n",
      "./data/tenk/831001-0000831001-17-000038.txt\n",
      "./data/tenk/45012-0000045012-16-000272.txt\n",
      "./data/tenk/1013871-0001013871-18-000011.txt\n",
      "./data/tenk/35527-0001193125-16-478543.txt\n",
      "./data/tenk/45012-0000045012-17-000047.txt\n",
      "./data/tenk/1123360-0001123360-16-000094.txt\n",
      "./data/tenk/1618921-0001140361-16-083198.txt\n",
      "./data/tenk/91142-0001193125-16-467088.txt\n",
      "./data/tenk/732717-0000732717-16-000147.txt\n"
     ]
    }
   ],
   "source": [
    "for name in os.listdir(path):\n",
    "    if name in processed:\n",
    "        continue\n",
    "        \n",
    "    infile = path + name\n",
    "    outfile = target_path + name\n",
    "    \n",
    "    with open(infile) as f:\n",
    "        text = f.read()\n",
    "        \n",
    "        text = preprossing(text, code_map)\n",
    "        \n",
    "        i = 0\n",
    "        for reg in regexs:\n",
    "            i = i + 1\n",
    "            section = reg(text)\n",
    "            \n",
    "            if section == None:\n",
    "                if i == len(regexs):\n",
    "                    print(infile)\n",
    "                continue\n",
    "            if section != None:\n",
    "                open(outfile, 'w').write(section)\n",
    "                break"
   ]
  },
  {
   "cell_type": "code",
   "execution_count": 193,
   "metadata": {},
   "outputs": [],
   "source": []
  },
  {
   "cell_type": "code",
   "execution_count": 187,
   "metadata": {},
   "outputs": [],
   "source": []
  },
  {
   "cell_type": "code",
   "execution_count": 188,
   "metadata": {},
   "outputs": [],
   "source": []
  },
  {
   "cell_type": "code",
   "execution_count": 189,
   "metadata": {},
   "outputs": [],
   "source": []
  },
  {
   "cell_type": "code",
   "execution_count": 190,
   "metadata": {},
   "outputs": [],
   "source": []
  },
  {
   "cell_type": "code",
   "execution_count": 191,
   "metadata": {},
   "outputs": [],
   "source": []
  },
  {
   "cell_type": "code",
   "execution_count": 192,
   "metadata": {},
   "outputs": [],
   "source": []
  },
  {
   "cell_type": "code",
   "execution_count": null,
   "metadata": {},
   "outputs": [],
   "source": []
  }
 ],
 "metadata": {
  "kernelspec": {
   "display_name": "Python 3",
   "language": "python",
   "name": "python3"
  },
  "language_info": {
   "codemirror_mode": {
    "name": "ipython",
    "version": 3
   },
   "file_extension": ".py",
   "mimetype": "text/x-python",
   "name": "python",
   "nbconvert_exporter": "python",
   "pygments_lexer": "ipython3",
   "version": "3.6.5"
  }
 },
 "nbformat": 4,
 "nbformat_minor": 2
}
