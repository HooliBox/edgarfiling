{
 "cells": [
  {
   "cell_type": "code",
   "execution_count": 68,
   "metadata": {},
   "outputs": [],
   "source": [
    "import pandas as pd\n",
    "import re\n",
    "import numpy\n",
    "from bs4 import BeautifulSoup\n",
    "import os\n",
    "import requests\n",
    "pd.options.mode.chained_assignment = None  \n",
    "\n",
    "\n",
    "def step1(text):\n",
    "    reg = '<DOCUMENT>\\n<TYPE>10-K[\\s\\S]*?</DOCUMENT>'\n",
    "    match = re.search(reg, text, flags=re.IGNORECASE)\n",
    "    if not match:\n",
    "        return None\n",
    "    return text[match.start():match.end()]\n",
    "    \n",
    "def step2(text):\n",
    "    reg = '<TEXT>[\\s\\S]*?</TEXT>'\n",
    "    match = re.search(reg, text, flags=re.IGNORECASE)\n",
    "    if not match:\n",
    "        return None\n",
    "    text = text[match.start():match.end()]\n",
    "    return text[6:-7]\n",
    "\n",
    "def get_html(text):\n",
    "    r1 = step1(text)\n",
    "    if not r1:\n",
    "        return None\n",
    "    r2 = step2(r1)\n",
    "    if not r2:\n",
    "        return None\n",
    "    return r2\n",
    "\n",
    "def replace_ascii_code(text, code_map):\n",
    "    for k, v in code_map.items():\n",
    "        text = text.replace(k, v)\n",
    "    return text\n",
    "    \n",
    "def remove_href(text):\n",
    "    soup = BeautifulSoup(text)\n",
    "    for a in soup.findAll('a'):\n",
    "        a.decompose()\n",
    "    return soup.text\n",
    "\n",
    "def fix_format(text):\n",
    "    regs = {\n",
    "        'Risk(\\n|\\s)*Factors': 'Risk Factors ',\n",
    "        'Item(\\n|\\s)*1A': 'Item 1A ',\n",
    "        'Item(\\n|\\s)*1B': 'Item 1B '}\n",
    "    for k, v in regs.items():\n",
    "        text = re.sub(k, v, text, re.IGNORECASE)\n",
    "    \n",
    "    return text\n",
    "\n",
    "def get_risk_factors(text):\n",
    "    reg = 'Item(\\n|\\s)*1A[^a-z]*Risk Factors[\\s\\S]*?Item 1B'\n",
    "    match = re.search(reg, text, flags=re.IGNORECASE)\n",
    "    if not match:\n",
    "        return None\n",
    "    return text[match.start():match.end()]"
   ]
  },
  {
   "cell_type": "code",
   "execution_count": 69,
   "metadata": {},
   "outputs": [],
   "source": [
    "header = {\n",
    "  \"User-Agent\": \"Mozilla/5.0 (X11; Linux x86_64) AppleWebKit/537.36 (KHTML, like Gecko) Chrome/50.0.2661.75 Safari/537.36\",\n",
    "  \"X-Requested-With\": \"XMLHttpRequest\"\n",
    "}\n",
    "\n",
    "url = 'https://www.tutorialspoint.com/html/html_ascii_codes.htm'\n",
    "r = requests.get(url, headers=header)\n",
    "dfs = pd.read_html(r.text)\n",
    "df = dfs[0].iloc[1:]\n",
    "df.loc[df[2] == '&#32;', 0] = ''\n",
    "df.loc[df[2] == '&#44;', 0] = ':'\n",
    "code_map = df[[2, 0]].set_index(2).to_dict()[0]\n",
    "\n",
    "\n",
    "url = 'https://www.tutorialspoint.com/html/html_color_names.htm'\n",
    "r = requests.get(url, headers=header)\n",
    "dfs = pd.read_html(r.text)\n",
    "df = dfs[5]\n",
    "df[0] = df[0].fillna(' ')\n",
    "df = df.iloc[1:]\n",
    "code_map.update(df[[3, 0]].set_index(3).to_dict()[0])\n",
    "\n",
    "code_map.update({\n",
    "    #'\\n': ' ', \n",
    "    #'\\r': ' ', \n",
    "    '&nbsp;': ' ', \n",
    "    '&#160;': ' ', \n",
    "    '&reg;': '',\n",
    "    '&#149;': '',\n",
    "    '&#151;': '—',\n",
    "    '&amp;': '',\n",
    "    '&#253;': '',\n",
    "    '&#153;': '',\n",
    "    '&#147;': '\"',\n",
    "    '&#148;': '\"',\n",
    "    '&#252;': '',\n",
    "    '&#167;': '',\n",
    "    '&#146;': \"'\",\n",
    "    '&ccedil;': '',\n",
    "    '&atilde;': '',\n",
    "    '&#150;': '-',\n",
    "    '&agrave;': '',\n",
    "    '&eacute;': '',\n",
    "    '&#361;': ''})\n",
    "\n",
    "del code_map['&#92;']"
   ]
  },
  {
   "cell_type": "code",
   "execution_count": 70,
   "metadata": {},
   "outputs": [],
   "source": [
    "source_path = './data/tenk/'\n",
    "target_path = './data/itemone/'"
   ]
  },
  {
   "cell_type": "code",
   "execution_count": 71,
   "metadata": {},
   "outputs": [],
   "source": [
    "files = os.listdir(source_path)"
   ]
  },
  {
   "cell_type": "code",
   "execution_count": 72,
   "metadata": {},
   "outputs": [
    {
     "name": "stderr",
     "output_type": "stream",
     "text": [
      "/home/wzh/miniconda3/envs/edgar/lib/python3.6/site-packages/bs4/__init__.py:181: UserWarning: No parser was explicitly specified, so I'm using the best available HTML parser for this system (\"lxml\"). This usually isn't a problem, but if you run this code on another system, or in a different virtual environment, it may use a different parser and behave differently.\n",
      "\n",
      "The code that caused this warning is on line 193 of the file /home/wzh/miniconda3/envs/edgar/lib/python3.6/runpy.py. To get rid of this warning, change code that looks like this:\n",
      "\n",
      " BeautifulSoup(YOUR_MARKUP})\n",
      "\n",
      "to this:\n",
      "\n",
      " BeautifulSoup(YOUR_MARKUP, \"lxml\")\n",
      "\n",
      "  markup_type=markup_type))\n"
     ]
    },
    {
     "name": "stdout",
     "output_type": "stream",
     "text": [
      "./data/tenk/65984-0000065984-17-000067.txt           step 2\n"
     ]
    }
   ],
   "source": [
    "for file in files:\n",
    "    t = get_html(open(source_path + file).read())\n",
    "    if not t:\n",
    "        print(source_path + file, '          step 1')\n",
    "    \n",
    "    t = replace_ascii_code(t, code_map)\n",
    "    t = remove_href(t)\n",
    "    t = fix_format(t)\n",
    "    t = get_risk_factors(t)\n",
    "    if not t:\n",
    "        print(source_path + file, '          step 2')\n",
    "        break\n",
    "    open(target_path + file, 'w').write(t)"
   ]
  },
  {
   "cell_type": "code",
   "execution_count": 81,
   "metadata": {},
   "outputs": [],
   "source": [
    "t = get_html(open('./data/tenk/65984-0000065984-17-000067.txt').read())\n",
    "if not t:\n",
    "    print(source_path + file, '          step 1')\n",
    "\n",
    "t = replace_ascii_code(t, code_map)\n",
    "\n",
    "t = re.sub(r'<SMALL>', '', t, flags=re.IGNORECASE)\n",
    "t = re.sub(r'</SMALL>', '', t, flags=re.IGNORECASE)\n",
    "\n",
    "# t = remove_href(t)\n",
    "# t = fix_format(t)"
   ]
  },
  {
   "cell_type": "code",
   "execution_count": 82,
   "metadata": {},
   "outputs": [],
   "source": [
    "soup = BeautifulSoup(t, 'lxml')"
   ]
  },
  {
   "cell_type": "code",
   "execution_count": 84,
   "metadata": {},
   "outputs": [],
   "source": [
    "for a in soup.findAll('a'):\n",
    "    a.decompose()"
   ]
  },
  {
   "cell_type": "code",
   "execution_count": null,
   "metadata": {},
   "outputs": [],
   "source": []
  },
  {
   "cell_type": "code",
   "execution_count": 86,
   "metadata": {},
   "outputs": [
    {
     "data": {
      "text/plain": [
       "1748337"
      ]
     },
     "execution_count": 86,
     "metadata": {},
     "output_type": "execute_result"
    }
   ],
   "source": [
    "open('temp.txt', 'w').write(soup.text)"
   ]
  },
  {
   "cell_type": "code",
   "execution_count": null,
   "metadata": {},
   "outputs": [],
   "source": []
  },
  {
   "cell_type": "code",
   "execution_count": null,
   "metadata": {},
   "outputs": [],
   "source": []
  }
 ],
 "metadata": {
  "kernelspec": {
   "display_name": "Python 3",
   "language": "python",
   "name": "python3"
  },
  "language_info": {
   "codemirror_mode": {
    "name": "ipython",
    "version": 3
   },
   "file_extension": ".py",
   "mimetype": "text/x-python",
   "name": "python",
   "nbconvert_exporter": "python",
   "pygments_lexer": "ipython3",
   "version": "3.6.5"
  }
 },
 "nbformat": 4,
 "nbformat_minor": 2
}
